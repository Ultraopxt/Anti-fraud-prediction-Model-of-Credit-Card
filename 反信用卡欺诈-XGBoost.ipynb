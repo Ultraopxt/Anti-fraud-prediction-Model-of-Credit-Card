{
 "cells": [
  {
   "cell_type": "markdown",
   "metadata": {},
   "source": [
    "# 反信用卡欺诈模型"
   ]
  },
  {
   "cell_type": "markdown",
   "metadata": {},
   "source": [
    "## 简介"
   ]
  },
  {
   "cell_type": "markdown",
   "metadata": {},
   "source": [
    "交易欺诈作为信用卡行业面临的主要贷后风险业务问题，每年都使信用卡行业遭受巨额损失。基于大数据机器学习开发出高效的交易欺诈识别模型一直是金融行业的主要挑战之一。"
   ]
  },
  {
   "cell_type": "markdown",
   "metadata": {},
   "source": [
    "本次建模的目标是识别交易是否欺诈，该数据集来源于Kaggle网站，一共包含284807条记录和25个变量，其中因变量Class表示用户在交易中是否发生欺诈行为（1表示欺诈交易，0表示正常交易）。数据集中只包含数值型变量。由于数据保密性问题，我们不能提供原始特征和数据上的更多背景信息，除‘Time’和‘Amount’外的其他变量都进行了PCA（主成分分析）变换，其中特征V1，V2，…,V28是由PCA得到的主成分。特征‘Time’表示交易时间间隔，‘Amount’是该笔交易的金额。"
   ]
  },
  {
   "cell_type": "code",
   "execution_count": 1,
   "metadata": {},
   "outputs": [],
   "source": [
    "#读入训练集数据\n",
    "import pandas as pd\n",
    "import matplotlib.pyplot as plt\n",
    "%matplotlib inline\n",
    "\n",
    "train=pd.read_csv('creditcard.csv')\n",
    "train=train.copy()"
   ]
  },
  {
   "cell_type": "code",
   "execution_count": 2,
   "metadata": {},
   "outputs": [
    {
     "data": {
      "text/html": [
       "<div>\n",
       "<style scoped>\n",
       "    .dataframe tbody tr th:only-of-type {\n",
       "        vertical-align: middle;\n",
       "    }\n",
       "\n",
       "    .dataframe tbody tr th {\n",
       "        vertical-align: top;\n",
       "    }\n",
       "\n",
       "    .dataframe thead th {\n",
       "        text-align: right;\n",
       "    }\n",
       "</style>\n",
       "<table border=\"1\" class=\"dataframe\">\n",
       "  <thead>\n",
       "    <tr style=\"text-align: right;\">\n",
       "      <th></th>\n",
       "      <th>Time</th>\n",
       "      <th>V1</th>\n",
       "      <th>V2</th>\n",
       "      <th>V3</th>\n",
       "      <th>V4</th>\n",
       "      <th>V5</th>\n",
       "      <th>V6</th>\n",
       "      <th>V7</th>\n",
       "      <th>V8</th>\n",
       "      <th>V9</th>\n",
       "      <th>...</th>\n",
       "      <th>V21</th>\n",
       "      <th>V22</th>\n",
       "      <th>V23</th>\n",
       "      <th>V24</th>\n",
       "      <th>V25</th>\n",
       "      <th>V26</th>\n",
       "      <th>V27</th>\n",
       "      <th>V28</th>\n",
       "      <th>Amount</th>\n",
       "      <th>Class</th>\n",
       "    </tr>\n",
       "  </thead>\n",
       "  <tbody>\n",
       "    <tr>\n",
       "      <td>0</td>\n",
       "      <td>0.0</td>\n",
       "      <td>-1.359807</td>\n",
       "      <td>-0.072781</td>\n",
       "      <td>2.536347</td>\n",
       "      <td>1.378155</td>\n",
       "      <td>-0.338321</td>\n",
       "      <td>0.462388</td>\n",
       "      <td>0.239599</td>\n",
       "      <td>0.098698</td>\n",
       "      <td>0.363787</td>\n",
       "      <td>...</td>\n",
       "      <td>-0.018307</td>\n",
       "      <td>0.277838</td>\n",
       "      <td>-0.110474</td>\n",
       "      <td>0.066928</td>\n",
       "      <td>0.128539</td>\n",
       "      <td>-0.189115</td>\n",
       "      <td>0.133558</td>\n",
       "      <td>-0.021053</td>\n",
       "      <td>149.62</td>\n",
       "      <td>0</td>\n",
       "    </tr>\n",
       "    <tr>\n",
       "      <td>1</td>\n",
       "      <td>0.0</td>\n",
       "      <td>1.191857</td>\n",
       "      <td>0.266151</td>\n",
       "      <td>0.166480</td>\n",
       "      <td>0.448154</td>\n",
       "      <td>0.060018</td>\n",
       "      <td>-0.082361</td>\n",
       "      <td>-0.078803</td>\n",
       "      <td>0.085102</td>\n",
       "      <td>-0.255425</td>\n",
       "      <td>...</td>\n",
       "      <td>-0.225775</td>\n",
       "      <td>-0.638672</td>\n",
       "      <td>0.101288</td>\n",
       "      <td>-0.339846</td>\n",
       "      <td>0.167170</td>\n",
       "      <td>0.125895</td>\n",
       "      <td>-0.008983</td>\n",
       "      <td>0.014724</td>\n",
       "      <td>2.69</td>\n",
       "      <td>0</td>\n",
       "    </tr>\n",
       "    <tr>\n",
       "      <td>2</td>\n",
       "      <td>1.0</td>\n",
       "      <td>-1.358354</td>\n",
       "      <td>-1.340163</td>\n",
       "      <td>1.773209</td>\n",
       "      <td>0.379780</td>\n",
       "      <td>-0.503198</td>\n",
       "      <td>1.800499</td>\n",
       "      <td>0.791461</td>\n",
       "      <td>0.247676</td>\n",
       "      <td>-1.514654</td>\n",
       "      <td>...</td>\n",
       "      <td>0.247998</td>\n",
       "      <td>0.771679</td>\n",
       "      <td>0.909412</td>\n",
       "      <td>-0.689281</td>\n",
       "      <td>-0.327642</td>\n",
       "      <td>-0.139097</td>\n",
       "      <td>-0.055353</td>\n",
       "      <td>-0.059752</td>\n",
       "      <td>378.66</td>\n",
       "      <td>0</td>\n",
       "    </tr>\n",
       "    <tr>\n",
       "      <td>3</td>\n",
       "      <td>1.0</td>\n",
       "      <td>-0.966272</td>\n",
       "      <td>-0.185226</td>\n",
       "      <td>1.792993</td>\n",
       "      <td>-0.863291</td>\n",
       "      <td>-0.010309</td>\n",
       "      <td>1.247203</td>\n",
       "      <td>0.237609</td>\n",
       "      <td>0.377436</td>\n",
       "      <td>-1.387024</td>\n",
       "      <td>...</td>\n",
       "      <td>-0.108300</td>\n",
       "      <td>0.005274</td>\n",
       "      <td>-0.190321</td>\n",
       "      <td>-1.175575</td>\n",
       "      <td>0.647376</td>\n",
       "      <td>-0.221929</td>\n",
       "      <td>0.062723</td>\n",
       "      <td>0.061458</td>\n",
       "      <td>123.50</td>\n",
       "      <td>0</td>\n",
       "    </tr>\n",
       "    <tr>\n",
       "      <td>4</td>\n",
       "      <td>2.0</td>\n",
       "      <td>-1.158233</td>\n",
       "      <td>0.877737</td>\n",
       "      <td>1.548718</td>\n",
       "      <td>0.403034</td>\n",
       "      <td>-0.407193</td>\n",
       "      <td>0.095921</td>\n",
       "      <td>0.592941</td>\n",
       "      <td>-0.270533</td>\n",
       "      <td>0.817739</td>\n",
       "      <td>...</td>\n",
       "      <td>-0.009431</td>\n",
       "      <td>0.798278</td>\n",
       "      <td>-0.137458</td>\n",
       "      <td>0.141267</td>\n",
       "      <td>-0.206010</td>\n",
       "      <td>0.502292</td>\n",
       "      <td>0.219422</td>\n",
       "      <td>0.215153</td>\n",
       "      <td>69.99</td>\n",
       "      <td>0</td>\n",
       "    </tr>\n",
       "  </tbody>\n",
       "</table>\n",
       "<p>5 rows × 31 columns</p>\n",
       "</div>"
      ],
      "text/plain": [
       "   Time        V1        V2        V3        V4        V5        V6        V7  \\\n",
       "0   0.0 -1.359807 -0.072781  2.536347  1.378155 -0.338321  0.462388  0.239599   \n",
       "1   0.0  1.191857  0.266151  0.166480  0.448154  0.060018 -0.082361 -0.078803   \n",
       "2   1.0 -1.358354 -1.340163  1.773209  0.379780 -0.503198  1.800499  0.791461   \n",
       "3   1.0 -0.966272 -0.185226  1.792993 -0.863291 -0.010309  1.247203  0.237609   \n",
       "4   2.0 -1.158233  0.877737  1.548718  0.403034 -0.407193  0.095921  0.592941   \n",
       "\n",
       "         V8        V9  ...       V21       V22       V23       V24       V25  \\\n",
       "0  0.098698  0.363787  ... -0.018307  0.277838 -0.110474  0.066928  0.128539   \n",
       "1  0.085102 -0.255425  ... -0.225775 -0.638672  0.101288 -0.339846  0.167170   \n",
       "2  0.247676 -1.514654  ...  0.247998  0.771679  0.909412 -0.689281 -0.327642   \n",
       "3  0.377436 -1.387024  ... -0.108300  0.005274 -0.190321 -1.175575  0.647376   \n",
       "4 -0.270533  0.817739  ... -0.009431  0.798278 -0.137458  0.141267 -0.206010   \n",
       "\n",
       "        V26       V27       V28  Amount  Class  \n",
       "0 -0.189115  0.133558 -0.021053  149.62      0  \n",
       "1  0.125895 -0.008983  0.014724    2.69      0  \n",
       "2 -0.139097 -0.055353 -0.059752  378.66      0  \n",
       "3 -0.221929  0.062723  0.061458  123.50      0  \n",
       "4  0.502292  0.219422  0.215153   69.99      0  \n",
       "\n",
       "[5 rows x 31 columns]"
      ]
     },
     "execution_count": 2,
     "metadata": {},
     "output_type": "execute_result"
    }
   ],
   "source": [
    "train.head()"
   ]
  },
  {
   "cell_type": "markdown",
   "metadata": {},
   "source": [
    "## 特征工程"
   ]
  },
  {
   "cell_type": "code",
   "execution_count": 3,
   "metadata": {},
   "outputs": [
    {
     "data": {
      "image/png": "[encoded data removed]",
      "text/plain": [
       "<Figure size 432x288 with 2 Axes>"
      ]
     },
     "metadata": {
      "needs_background": "light"
     },
     "output_type": "display_data"
    },
    {
     "name": "stdout",
     "output_type": "stream",
     "text": [
      "            Time            V1            V2            V3            V4  \\\n",
      "Time    1.000000  1.173963e-01  1.059333e-02  4.196182e-01  1.052602e-01   \n",
      "V1      0.117396  1.000000e+00  4.697350e-17  1.424390e-15  1.755316e-17   \n",
      "V2      0.010593  4.697350e-17  1.000000e+00  2.512175e-16  1.126388e-16   \n",
      "V3      0.419618  1.424390e-15  2.512175e-16  1.000000e+00  3.416910e-16   \n",
      "V4      0.105260  1.755316e-17  1.126388e-16  3.416910e-16  1.000000e+00   \n",
      "V5      0.173072  6.391162e-17  2.039868e-16  1.436514e-15  1.940929e-15   \n",
      "V6      0.063016  2.398071e-16  5.024680e-16  1.431581e-15  2.712659e-16   \n",
      "V7      0.084714  1.991550e-15  3.966486e-16  2.168574e-15  1.556330e-16   \n",
      "V8      0.036949  9.490675e-17  4.413984e-17  3.433113e-16  5.195643e-16   \n",
      "V9      0.008660  2.169581e-16  5.728718e-17  4.233770e-16  3.859585e-16   \n",
      "V10     0.030617  7.433820e-17  4.782388e-16  6.289267e-16  6.055490e-16   \n",
      "V11     0.247689  2.438580e-16  9.468995e-16  5.501758e-17  2.083600e-16   \n",
      "V12     0.124348  2.422086e-16  6.588252e-16  2.206522e-16  5.657963e-16   \n",
      "V13     0.065902  2.115458e-16  3.854521e-16  6.883375e-16  1.506129e-16   \n",
      "V14     0.098757  9.352582e-16  2.541036e-16  4.271336e-16  8.522435e-17   \n",
      "V15     0.183453  3.252451e-16  2.831060e-16  1.122756e-16  1.507718e-16   \n",
      "V16     0.011903  6.308789e-16  4.934097e-17  1.183364e-15  6.939204e-16   \n",
      "V17     0.073297  5.011524e-16  9.883008e-16  4.576619e-17  4.397925e-16   \n",
      "V18     0.090438  2.870125e-16  2.636654e-16  5.427965e-16  1.493667e-16   \n",
      "V19     0.028975  1.818128e-16  9.528280e-17  2.576773e-16  2.656938e-16   \n",
      "V20     0.050866  1.036959e-16  9.309954e-16  9.429297e-16  3.223123e-16   \n",
      "V21     0.044736  1.755072e-16  8.444409e-17  2.971969e-17  9.976950e-17   \n",
      "V22     0.144059  7.477367e-17  2.500830e-16  4.648259e-16  2.099922e-16   \n",
      "V23     0.051142  9.808705e-16  1.059562e-16  2.115206e-17  6.002528e-17   \n",
      "V24     0.016182  7.354269e-17  8.142354e-18  9.351637e-17  2.229738e-16   \n",
      "V25     0.233083  9.805358e-16  4.261894e-17  4.771164e-16  5.394585e-16   \n",
      "V26     0.041407  8.621897e-17  2.601622e-16  6.521501e-16  6.179751e-16   \n",
      "V27     0.005135  3.208233e-17  4.478472e-16  6.239832e-16  6.403423e-17   \n",
      "V28     0.009413  9.820892e-16  3.676415e-16  7.726948e-16  5.863664e-17   \n",
      "Amount  0.010596  2.277087e-01  5.314089e-01  2.108805e-01  9.873167e-02   \n",
      "Class   0.012323  1.013473e-01  9.128865e-02  1.929608e-01  1.334475e-01   \n",
      "\n",
      "                  V5            V6            V7            V8            V9  \\\n",
      "Time    1.730721e-01  6.301647e-02  8.471437e-02  3.694943e-02  8.660434e-03   \n",
      "V1      6.391162e-17  2.398071e-16  1.991550e-15  9.490675e-17  2.169581e-16   \n",
      "V2      2.039868e-16  5.024680e-16  3.966486e-16  4.413984e-17  5.728718e-17   \n",
      "V3      1.436514e-15  1.431581e-15  2.168574e-15  3.433113e-16  4.233770e-16   \n",
      "V4      1.940929e-15  2.712659e-16  1.556330e-16  5.195643e-16  3.859585e-16   \n",
      "V5      1.000000e+00  7.926364e-16  4.209851e-16  7.589187e-16  4.205206e-16   \n",
      "V6      7.926364e-16  1.000000e+00  1.429426e-16  1.707421e-16  1.114447e-16   \n",
      "V7      4.209851e-16  1.429426e-16  1.000000e+00  8.691834e-17  7.933251e-16   \n",
      "V8      7.589187e-16  1.707421e-16  8.691834e-17  1.000000e+00  2.900829e-16   \n",
      "V9      4.205206e-16  1.114447e-16  7.933251e-16  2.900829e-16  1.000000e+00   \n",
      "V10     6.601716e-16  2.850776e-16  3.043333e-17  9.051847e-17  2.771761e-16   \n",
      "V11     7.342759e-16  4.865799e-16  1.084105e-15  1.954747e-16  4.682341e-16   \n",
      "V12     3.761033e-16  2.140589e-16  1.510045e-15  6.266057e-17  2.445230e-15   \n",
      "V13     9.578659e-16  2.268061e-16  9.892325e-17  2.382948e-16  2.650351e-16   \n",
      "V14     3.634803e-16  3.452801e-16  1.729462e-16  1.131098e-16  2.343317e-16   \n",
      "V15     5.132620e-16  6.368111e-18  1.936832e-17  2.021491e-16  1.588105e-15   \n",
      "V16     3.517076e-16  2.477917e-16  2.893672e-16  5.027192e-16  3.251906e-16   \n",
      "V17     1.425729e-16  3.567582e-16  1.149692e-15  3.508777e-16  6.535992e-16   \n",
      "V18     1.109525e-15  2.811474e-16  1.116789e-16  4.093852e-16  1.203843e-16   \n",
      "V19     3.138234e-16  2.717167e-16  2.874017e-16  5.339821e-16  1.120752e-16   \n",
      "V20     2.076048e-16  1.898638e-16  1.744242e-16  1.095534e-16  4.340941e-16   \n",
      "V21     1.368701e-16  1.575903e-16  1.938604e-16  2.412439e-16  4.578389e-17   \n",
      "V22     5.060029e-16  3.362902e-16  1.058131e-15  5.475559e-16  2.871855e-17   \n",
      "V23     1.637596e-16  7.232186e-17  2.327911e-16  3.897104e-16  5.929286e-16   \n",
      "V24     9.286095e-16  1.261867e-15  2.589727e-17  1.802967e-16  2.346385e-16   \n",
      "V25     5.625102e-16  1.081933e-15  1.174169e-15  1.390791e-16  1.099645e-15   \n",
      "V26     9.144690e-16  2.378414e-16  7.334507e-16  1.209975e-16  1.388725e-15   \n",
      "V27     4.465960e-16  2.623818e-16  5.886825e-16  1.733633e-16  2.287414e-16   \n",
      "V28     3.299167e-16  4.813155e-16  6.836764e-17  4.484325e-16  9.146779e-16   \n",
      "Amount  3.863563e-01  2.159812e-01  3.973113e-01  1.030791e-01  4.424560e-02   \n",
      "Class   9.497430e-02  4.364316e-02  1.872566e-01  1.987512e-02  9.773269e-02   \n",
      "\n",
      "        ...           V21           V22           V23           V24  \\\n",
      "Time    ...  4.473573e-02  1.440591e-01  5.114236e-02  1.618187e-02   \n",
      "V1      ...  1.755072e-16  7.477367e-17  9.808705e-16  7.354269e-17   \n",
      "V2      ...  8.444409e-17  2.500830e-16  1.059562e-16  8.142354e-18   \n",
      "V3      ...  2.971969e-17  4.648259e-16  2.115206e-17  9.351637e-17   \n",
      "V4      ...  9.976950e-17  2.099922e-16  6.002528e-17  2.229738e-16   \n",
      "V5      ...  1.368701e-16  5.060029e-16  1.637596e-16  9.286095e-16   \n",
      "V6      ...  1.575903e-16  3.362902e-16  7.232186e-17  1.261867e-15   \n",
      "V7      ...  1.938604e-16  1.058131e-15  2.327911e-16  2.589727e-17   \n",
      "V8      ...  2.412439e-16  5.475559e-16  3.897104e-16  1.802967e-16   \n",
      "V9      ...  4.578389e-17  2.871855e-17  5.929286e-16  2.346385e-16   \n",
      "V10     ...  8.089504e-16  6.707598e-16  3.809732e-16  4.032806e-17   \n",
      "V11     ...  3.911893e-16  3.811640e-17  2.232007e-16  1.219849e-15   \n",
      "V12     ...  3.229576e-16  5.903992e-16  1.392162e-16  4.901644e-16   \n",
      "V13     ...  9.499130e-17  2.659710e-17  5.884304e-16  5.470547e-16   \n",
      "V14     ...  1.634141e-17  3.439699e-16  7.620728e-17  2.335749e-16   \n",
      "V15     ...  1.947458e-17  8.936817e-16  1.119827e-16  4.589689e-16   \n",
      "V16     ...  3.927401e-16  3.878384e-17  8.519670e-16  4.289239e-16   \n",
      "V17     ...  7.753967e-16  8.389703e-16  5.367784e-16  5.543631e-17   \n",
      "V18     ...  1.140973e-15  8.662635e-17  3.624236e-16  1.126043e-16   \n",
      "V19     ...  4.032541e-16  9.690436e-16  5.733798e-16  3.126716e-17   \n",
      "V20     ...  1.120828e-15  1.105842e-15  4.986739e-16  1.637488e-16   \n",
      "V21     ...  1.000000e+00  3.905948e-15  6.127323e-16  1.298254e-16   \n",
      "V22     ...  3.905948e-15  1.000000e+00  3.130812e-16  1.150829e-17   \n",
      "V23     ...  6.127323e-16  3.130812e-16  1.000000e+00  4.411271e-17   \n",
      "V24     ...  1.298254e-16  1.150829e-17  4.411271e-17  1.000000e+00   \n",
      "V25     ...  2.826293e-16  6.078986e-16  9.938362e-16  1.557318e-15   \n",
      "V26     ...  4.907301e-16  8.477050e-16  8.848700e-16  3.129195e-16   \n",
      "V27     ...  1.033403e-15  1.294910e-16  5.524044e-16  3.736529e-16   \n",
      "V28     ...  5.132234e-16  3.021376e-16  9.029821e-16  2.259275e-16   \n",
      "Amount  ...  1.059989e-01  6.480065e-02  1.126326e-01  5.146217e-03   \n",
      "Class   ...  4.041338e-02  8.053175e-04  2.685156e-03  7.220907e-03   \n",
      "\n",
      "                 V25           V26           V27           V28    Amount  \\\n",
      "Time    2.330828e-01  4.140710e-02  5.134591e-03  9.412688e-03  0.010596   \n",
      "V1      9.805358e-16  8.621897e-17  3.208233e-17  9.820892e-16  0.227709   \n",
      "V2      4.261894e-17  2.601622e-16  4.478472e-16  3.676415e-16  0.531409   \n",
      "V3      4.771164e-16  6.521501e-16  6.239832e-16  7.726948e-16  0.210880   \n",
      "V4      5.394585e-16  6.179751e-16  6.403423e-17  5.863664e-17  0.098732   \n",
      "V5      5.625102e-16  9.144690e-16  4.465960e-16  3.299167e-16  0.386356   \n",
      "V6      1.081933e-15  2.378414e-16  2.623818e-16  4.813155e-16  0.215981   \n",
      "V7      1.174169e-15  7.334507e-16  5.886825e-16  6.836764e-17  0.397311   \n",
      "V8      1.390791e-16  1.209975e-16  1.733633e-16  4.484325e-16  0.103079   \n",
      "V9      1.099645e-15  1.388725e-15  2.287414e-16  9.146779e-16  0.044246   \n",
      "V10     2.863813e-16  2.554293e-16  3.103239e-16  1.515934e-16  0.101502   \n",
      "V11     4.567635e-16  1.110976e-16  2.635827e-16  3.091914e-16  0.000104   \n",
      "V12     5.053736e-16  5.759321e-16  2.312619e-16  7.327446e-16  0.009542   \n",
      "V13     8.066738e-17  2.121518e-16  4.520414e-16  1.049541e-15  0.005293   \n",
      "V14     2.606783e-16  6.580254e-18  1.285770e-16  2.503271e-15  0.033751   \n",
      "V15     3.869740e-16  3.761094e-16  1.265235e-15  1.063286e-15  0.002986   \n",
      "V16     6.644104e-16  5.186503e-16  7.820038e-16  8.637186e-16  0.003910   \n",
      "V17     4.822068e-16  4.870302e-16  8.844373e-16  2.182692e-16  0.007309   \n",
      "V18     2.310856e-16  3.183964e-16  2.435170e-16  8.844995e-16  0.035650   \n",
      "V19     7.415355e-16  5.614354e-16  1.113035e-16  1.375843e-15  0.056151   \n",
      "V20     1.518242e-16  2.975081e-16  1.446069e-15  1.133579e-16  0.339403   \n",
      "V21     2.826293e-16  4.907301e-16  1.033403e-15  5.132234e-16  0.105999   \n",
      "V22     6.078986e-16  8.477050e-16  1.294910e-16  3.021376e-16  0.064801   \n",
      "V23     9.938362e-16  8.848700e-16  5.524044e-16  9.029821e-16  0.112633   \n",
      "V24     1.557318e-15  3.129195e-16  3.736529e-16  2.259275e-16  0.005146   \n",
      "V25     1.000000e+00  2.810884e-15  6.107118e-16  3.399375e-16  0.047837   \n",
      "V26     2.810884e-15  1.000000e+00  3.383861e-16  3.751403e-16  0.003208   \n",
      "V27     6.107118e-16  3.383861e-16  1.000000e+00  3.770124e-16  0.028825   \n",
      "V28     3.399375e-16  3.751403e-16  3.770124e-16  1.000000e+00  0.010258   \n",
      "Amount  4.783686e-02  3.208037e-03  2.882546e-02  1.025822e-02  1.000000   \n",
      "Class   3.307706e-03  4.455398e-03  1.757973e-02  9.536041e-03  0.005632   \n",
      "\n",
      "           Class  \n",
      "Time    0.012323  \n",
      "V1      0.101347  \n",
      "V2      0.091289  \n",
      "V3      0.192961  \n",
      "V4      0.133447  \n",
      "V5      0.094974  \n",
      "V6      0.043643  \n",
      "V7      0.187257  \n",
      "V8      0.019875  \n",
      "V9      0.097733  \n",
      "V10     0.216883  \n",
      "V11     0.154876  \n",
      "V12     0.260593  \n",
      "V13     0.004570  \n",
      "V14     0.302544  \n",
      "V15     0.004223  \n",
      "V16     0.196539  \n",
      "V17     0.326481  \n",
      "V18     0.111485  \n",
      "V19     0.034783  \n",
      "V20     0.020090  \n",
      "V21     0.040413  \n",
      "V22     0.000805  \n",
      "V23     0.002685  \n",
      "V24     0.007221  \n",
      "V25     0.003308  \n",
      "V26     0.004455  \n",
      "V27     0.017580  \n",
      "V28     0.009536  \n",
      "Amount  0.005632  \n",
      "Class   1.000000  \n",
      "\n",
      "[31 rows x 31 columns]\n"
     ]
    }
   ],
   "source": [
    "#绘出各个特征之间相关系数\n",
    "import seaborn as sns\n",
    "corrmat=train.corr().abs()\n",
    "sns.heatmap(corrmat)\n",
    "plt.show()\n",
    "print(corrmat)"
   ]
  },
  {
   "cell_type": "markdown",
   "metadata": {},
   "source": [
    "由上表知道V2和Amount的相关性比较高，约为0.53。可以得出两个向量之间的共线性比较高，因此，我们去掉V2特征。"
   ]
  },
  {
   "cell_type": "code",
   "execution_count": 4,
   "metadata": {},
   "outputs": [],
   "source": [
    "#我们去掉V2特征\n",
    "del train['V2']"
   ]
  },
  {
   "cell_type": "code",
   "execution_count": 5,
   "metadata": {},
   "outputs": [
    {
     "data": {
      "text/plain": [
       "<matplotlib.axes._subplots.AxesSubplot at 0x20f5d163d08>"
      ]
     },
     "execution_count": 5,
     "metadata": {},
     "output_type": "execute_result"
    },
    {
     "data": {
      "image/png": "[encoded data removed]",
      "text/plain": [
       "<Figure size 432x288 with 1 Axes>"
      ]
     },
     "metadata": {
      "needs_background": "light"
     },
     "output_type": "display_data"
    }
   ],
   "source": [
    "train['Class'].hist()"
   ]
  },
  {
   "cell_type": "markdown",
   "metadata": {},
   "source": [
    "如上图所示，284807条信用卡交易中，欺诈交易仅占0.17%，两个类别的比例存在严重不平衡现象。建模之前，我们首先使用SMOTE算法转换为相对平衡的数据，代码如下："
   ]
  },
  {
   "cell_type": "code",
   "execution_count": 6,
   "metadata": {},
   "outputs": [],
   "source": [
    "#使用SMOTE将数据集转化为相对平衡的数据\n",
    "from imblearn.over_sampling import SMOTE\n",
    "from sklearn import model_selection\n",
    "\n",
    "x=train.drop(['Time','Class'],axis=1)\n",
    "y=train.Class\n",
    "\n",
    "#将数据集拆分为训练集和测试集，其中测试集数占30%比重。\n",
    "x_train,x_test,y_train,y_test=model_selection.train_test_split(x,y,test_size=0.3,random_state=1234)\n",
    "\n",
    "over_samples=SMOTE(random_state=1234)\n",
    "over_samples_x,over_samples_y=over_samples.fit_sample(x_train,y_train)\n",
    "\n"
   ]
  },
  {
   "cell_type": "markdown",
   "metadata": {},
   "source": [
    "## 建模"
   ]
  },
  {
   "cell_type": "markdown",
   "metadata": {},
   "source": [
    "接下来，利用重抽样的数据构建XGBoost模型。"
   ]
  },
  {
   "cell_type": "code",
   "execution_count": 7,
   "metadata": {},
   "outputs": [],
   "source": [
    "#XGBoost来训练模型\n",
    "import xgboost as xgb\n",
    "import numpy as np\n",
    "\n",
    "#XGBoost来训练训练集\n",
    "xgb=xgb.XGBClassifier(learning_rate=0.1,n_estimators=140,max_depth=2,min_child_weight=2,gamma=0.5,subsample=0.8,\n",
    "                                              colsample_bytree=0.8,objective='binary:logistic',nthread=4,scale_pos_weight=1,seed=27)\n",
    "xgb.fit(over_samples_x,over_samples_y)\n",
    "\n",
    "#XGBoost来预测测试集\n",
    "fitted_labels=xgb.predict(x_test)"
   ]
  },
  {
   "cell_type": "markdown",
   "metadata": {},
   "source": [
    "训练模型后，我们将评估所预测的训练集结果。我们使用四个指标：auc(曲线下面积），accuracy(准确率），precision(精准率）和recall(召回率）"
   ]
  },
  {
   "cell_type": "code",
   "execution_count": 8,
   "metadata": {},
   "outputs": [
    {
     "name": "stdout",
     "output_type": "stream",
     "text": [
      "0.9480919356858262\n",
      "0.9882494762590265\n",
      "0.11438784629133154\n",
      "0.9078014184397163\n"
     ]
    },
    {
     "data": {
      "image/png": "[encoded data removed]",
      "text/plain": [
       "<Figure size 432x288 with 1 Axes>"
      ]
     },
     "metadata": {
      "needs_background": "light"
     },
     "output_type": "display_data"
    }
   ],
   "source": [
    "from sklearn.metrics import roc_curve,auc\n",
    "#计算auc\n",
    "fpr,tpr,thresholds =roc_curve(y_test,fitted_labels)\n",
    "auc=auc(fpr,tpr)\n",
    "print(auc)\n",
    "\n",
    "#以fpr假正率为横轴，tpr真征率为纵轴绘出auc曲线\n",
    "plt.plot(fpr,tpr)\n",
    "plt.plot([0,1],[0,1],'r--')\n",
    "\n",
    "from sklearn.metrics import accuracy_score,precision_score,recall_score\n",
    "#计算accuracy\n",
    "accuracy = accuracy_score(y_test,fitted_labels)\n",
    "print(accuracy)\n",
    "#计算precision\n",
    "precision =precision_score(y_test,fitted_labels)\n",
    "print(precision)\n",
    "#计算recall\n",
    "recall=recall_score(y_test,fitted_labels)\n",
    "print(recall)"
   ]
  },
  {
   "cell_type": "markdown",
   "metadata": {},
   "source": [
    "## 结论"
   ]
  },
  {
   "cell_type": "markdown",
   "metadata": {},
   "source": [
    "通过XGboost模型的参数调优，我们将auc值从0.917左右优化到了0.948。"
   ]
  }
 ],
 "metadata": {
  "kernelspec": {
   "display_name": "Python 3",
   "language": "python",
   "name": "python3"
  },
  "language_info": {
   "codemirror_mode": {
    "name": "ipython",
    "version": 3
   },
   "file_extension": ".py",
   "mimetype": "text/x-python",
   "name": "python",
   "nbconvert_exporter": "python",
   "pygments_lexer": "ipython3",
   "version": "3.7.4"
  }
 },
 "nbformat": 4,
 "nbformat_minor": 2
}
